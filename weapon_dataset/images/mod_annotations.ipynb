{
 "cells": [
  {
   "cell_type": "code",
   "execution_count": 20,
   "metadata": {},
   "outputs": [],
   "source": [
    "import numpy as np\n",
    "import pandas as pd\n",
    "import cv2\n",
    "import os"
   ]
  },
  {
   "cell_type": "code",
   "execution_count": 21,
   "metadata": {},
   "outputs": [
    {
     "data": {
      "text/html": [
       "<div>\n",
       "<style scoped>\n",
       "    .dataframe tbody tr th:only-of-type {\n",
       "        vertical-align: middle;\n",
       "    }\n",
       "\n",
       "    .dataframe tbody tr th {\n",
       "        vertical-align: top;\n",
       "    }\n",
       "\n",
       "    .dataframe thead th {\n",
       "        text-align: right;\n",
       "    }\n",
       "</style>\n",
       "<table border=\"1\" class=\"dataframe\">\n",
       "  <thead>\n",
       "    <tr style=\"text-align: right;\">\n",
       "      <th></th>\n",
       "      <th>frame</th>\n",
       "      <th>xmin</th>\n",
       "      <th>xmax</th>\n",
       "      <th>ymin</th>\n",
       "      <th>ymax</th>\n",
       "      <th>class_id</th>\n",
       "    </tr>\n",
       "  </thead>\n",
       "  <tbody>\n",
       "    <tr>\n",
       "      <th>0</th>\n",
       "      <td>10.jpeg</td>\n",
       "      <td>115</td>\n",
       "      <td>163</td>\n",
       "      <td>130</td>\n",
       "      <td>161</td>\n",
       "      <td>1</td>\n",
       "    </tr>\n",
       "    <tr>\n",
       "      <th>1</th>\n",
       "      <td>100.jpeg</td>\n",
       "      <td>9</td>\n",
       "      <td>225</td>\n",
       "      <td>23</td>\n",
       "      <td>107</td>\n",
       "      <td>1</td>\n",
       "    </tr>\n",
       "    <tr>\n",
       "      <th>2</th>\n",
       "      <td>101.jpeg</td>\n",
       "      <td>153</td>\n",
       "      <td>198</td>\n",
       "      <td>25</td>\n",
       "      <td>70</td>\n",
       "      <td>1</td>\n",
       "    </tr>\n",
       "    <tr>\n",
       "      <th>3</th>\n",
       "      <td>102.jpeg</td>\n",
       "      <td>119</td>\n",
       "      <td>146</td>\n",
       "      <td>87</td>\n",
       "      <td>141</td>\n",
       "      <td>1</td>\n",
       "    </tr>\n",
       "    <tr>\n",
       "      <th>4</th>\n",
       "      <td>103.jpeg</td>\n",
       "      <td>7</td>\n",
       "      <td>163</td>\n",
       "      <td>69</td>\n",
       "      <td>133</td>\n",
       "      <td>1</td>\n",
       "    </tr>\n",
       "  </tbody>\n",
       "</table>\n",
       "</div>"
      ],
      "text/plain": [
       "      frame  xmin  xmax  ymin  ymax  class_id\n",
       "0   10.jpeg   115   163   130   161         1\n",
       "1  100.jpeg     9   225    23   107         1\n",
       "2  101.jpeg   153   198    25    70         1\n",
       "3  102.jpeg   119   146    87   141         1\n",
       "4  103.jpeg     7   163    69   133         1"
      ]
     },
     "execution_count": 21,
     "metadata": {},
     "output_type": "execute_result"
    }
   ],
   "source": [
    "img_path='/home/lenovo/object-detection/Keras_object-detection/pretrained_MobileNet_keras/weapon_dataset/images'\n",
    "path_to_save='/home/lenovo/object-detection/Keras_object-detection/pretrained_MobileNet_keras/weapon_dataset/images_mod'\n",
    "cols=['frame','xmin','xmax','ymin','ymax','class_id']\n",
    "train_annot=pd.read_csv(os.path.join(img_path,'train_labels.csv'))[cols]\n",
    "test_annot=pd.read_csv(os.path.join(img_path,'test_labels.csv'))[cols]\n",
    "train_annot.head()"
   ]
  },
  {
   "cell_type": "code",
   "execution_count": 22,
   "metadata": {},
   "outputs": [],
   "source": [
    "new_im_wd=224\n",
    "new_im_ht=224"
   ]
  },
  {
   "cell_type": "code",
   "execution_count": 23,
   "metadata": {},
   "outputs": [],
   "source": [
    "def resize_images(img_path,path_to_save):\n",
    "    for files in sorted(os.listdir(img_path)):\n",
    "        try:\n",
    "            img=cv2.imread(files)\n",
    "            #print(img.shape)\n",
    "            size=(new_im_wd,new_im_ht)\n",
    "            cv2.imwrite(os.path.join(path_to_save,files),cv2.resize(img,size))\n",
    "        except:\n",
    "            print(files)"
   ]
  },
  {
   "cell_type": "code",
   "execution_count": 24,
   "metadata": {},
   "outputs": [],
   "source": [
    "\n",
    "def mod_annot(data):\n",
    "\n",
    "    size=(new_im_wd,new_im_ht)\n",
    "\n",
    "    for i in range(len(data)):\n",
    "        file=data['frame'][i]\n",
    "        img=cv2.imread(file)\n",
    "        cv2.imwrite(os.path.join(path_to_save,file),cv2.resize(img,size))\n",
    "        #data.frame[i]='mod_'+data.frame[i]\n",
    "        data.xmin[i]=round(new_im_wd*data.xmin[i]/img.shape[1])\n",
    "        data.ymin[i]=round(new_im_ht*data.ymin[i]/img.shape[0])\n",
    "        data.xmax[i]=round(new_im_wd*data.xmax[i]/img.shape[1])\n",
    "        data.ymax[i]=round(new_im_ht*data.ymax[i]/img.shape[0])\n",
    "    return data \n"
   ]
  },
  {
   "cell_type": "code",
   "execution_count": 25,
   "metadata": {},
   "outputs": [
    {
     "name": "stderr",
     "output_type": "stream",
     "text": [
      "/home/lenovo/anaconda3/envs/py36/lib/python3.6/site-packages/ipykernel_launcher.py:10: SettingWithCopyWarning: \n",
      "A value is trying to be set on a copy of a slice from a DataFrame\n",
      "\n",
      "See the caveats in the documentation: http://pandas.pydata.org/pandas-docs/stable/user_guide/indexing.html#returning-a-view-versus-a-copy\n",
      "  # Remove the CWD from sys.path while we load stuff.\n",
      "/home/lenovo/anaconda3/envs/py36/lib/python3.6/site-packages/ipykernel_launcher.py:11: SettingWithCopyWarning: \n",
      "A value is trying to be set on a copy of a slice from a DataFrame\n",
      "\n",
      "See the caveats in the documentation: http://pandas.pydata.org/pandas-docs/stable/user_guide/indexing.html#returning-a-view-versus-a-copy\n",
      "  # This is added back by InteractiveShellApp.init_path()\n",
      "/home/lenovo/anaconda3/envs/py36/lib/python3.6/site-packages/ipykernel_launcher.py:12: SettingWithCopyWarning: \n",
      "A value is trying to be set on a copy of a slice from a DataFrame\n",
      "\n",
      "See the caveats in the documentation: http://pandas.pydata.org/pandas-docs/stable/user_guide/indexing.html#returning-a-view-versus-a-copy\n",
      "  if sys.path[0] == '':\n",
      "/home/lenovo/anaconda3/envs/py36/lib/python3.6/site-packages/ipykernel_launcher.py:13: SettingWithCopyWarning: \n",
      "A value is trying to be set on a copy of a slice from a DataFrame\n",
      "\n",
      "See the caveats in the documentation: http://pandas.pydata.org/pandas-docs/stable/user_guide/indexing.html#returning-a-view-versus-a-copy\n",
      "  del sys.path[0]\n"
     ]
    }
   ],
   "source": [
    "data_train=mod_annot(train_annot)\n",
    "data_train.to_csv(os.path.join(path_to_save,'train_labels.csv'),index=False)\n",
    "\n",
    "data_test=mod_annot(test_annot)\n",
    "data_test.to_csv(os.path.join(path_to_save,'test_labels.csv'),index=False)"
   ]
  },
  {
   "cell_type": "code",
   "execution_count": null,
   "metadata": {},
   "outputs": [],
   "source": [
    "data_train"
   ]
  },
  {
   "cell_type": "code",
   "execution_count": null,
   "metadata": {},
   "outputs": [],
   "source": [
    "new_im_wd*train_annot.xmin[0]/img.shape[1]"
   ]
  },
  {
   "cell_type": "code",
   "execution_count": null,
   "metadata": {},
   "outputs": [],
   "source": [
    "480*train_annot.xmin[0]/168"
   ]
  },
  {
   "cell_type": "code",
   "execution_count": null,
   "metadata": {},
   "outputs": [],
   "source": []
  },
  {
   "cell_type": "code",
   "execution_count": null,
   "metadata": {},
   "outputs": [],
   "source": []
  }
 ],
 "metadata": {
  "kernelspec": {
   "display_name": "Python 3",
   "language": "python",
   "name": "python3"
  },
  "language_info": {
   "codemirror_mode": {
    "name": "ipython",
    "version": 3
   },
   "file_extension": ".py",
   "mimetype": "text/x-python",
   "name": "python",
   "nbconvert_exporter": "python",
   "pygments_lexer": "ipython3",
   "version": "3.6.9"
  }
 },
 "nbformat": 4,
 "nbformat_minor": 2
}
